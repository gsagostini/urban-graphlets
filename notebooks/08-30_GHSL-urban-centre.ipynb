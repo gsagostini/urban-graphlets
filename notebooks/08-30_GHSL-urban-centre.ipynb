{
 "cells": [
  {
   "cell_type": "code",
   "execution_count": 2,
   "id": "5c591d4b-5e53-48e6-a28a-67c13fab7313",
   "metadata": {},
   "outputs": [],
   "source": [
    "import fiona\n",
    "import geopandas as gpd\n",
    "import pandas as pd\n",
    "import sys\n",
    "sys.path.append('../')"
   ]
  },
  {
   "cell_type": "code",
   "execution_count": null,
   "id": "a2674c20-a01c-4764-a45f-0880f2c473ce",
   "metadata": {},
   "outputs": [],
   "source": []
  },
  {
   "cell_type": "markdown",
   "id": "22fca433-b7c0-4d42-8420-4e6334b1f165",
   "metadata": {},
   "source": [
    "# Exploration of the GHSL Urban Centre Database"
   ]
  },
  {
   "cell_type": "markdown",
   "id": "ae596762-a53f-43d2-9522-469f7328abab",
   "metadata": {},
   "source": [
    "Experimental notebook to test procedure that collects city boundaries from the GHSL data and city lists"
   ]
  },
  {
   "cell_type": "markdown",
   "id": "7963b9fe-cff9-4176-b969-8b362e0afff5",
   "metadata": {},
   "source": [
    "## 1. Intializing the GeoDataFrame"
   ]
  },
  {
   "cell_type": "code",
   "execution_count": 3,
   "id": "d3de6918-71a0-461d-87d0-50abc05a13a9",
   "metadata": {},
   "outputs": [],
   "source": [
    "from src.vars import ghsl_crs\n",
    "raw_data_path = '../data/d1_raw/urban-centre-database/GHS_STAT_UCDB2015MT_GLOBE_R2019A_V1_2.gpkg'"
   ]
  },
  {
   "cell_type": "code",
   "execution_count": 17,
   "id": "db530c2e-5717-4ab2-9d1f-b48e25f6fc7b",
   "metadata": {},
   "outputs": [],
   "source": [
    "gdf = gpd.read_file(raw_data_path, to_crs=ghsl_crs)"
   ]
  },
  {
   "cell_type": "code",
   "execution_count": 18,
   "id": "dc9b896a-f321-45de-a35a-c26232d02020",
   "metadata": {},
   "outputs": [
    {
     "data": {
      "text/plain": [
       "<AxesSubplot:>"
      ]
     },
     "execution_count": 18,
     "metadata": {},
     "output_type": "execute_result"
    },
    {
     "data": {
      "image/png": "[encoded data removed]",
      "text/plain": [
       "<Figure size 432x288 with 1 Axes>"
      ]
     },
     "metadata": {
      "needs_background": "light"
     },
     "output_type": "display_data"
    }
   ],
   "source": [
    "gdf.plot()"
   ]
  },
  {
   "cell_type": "code",
   "execution_count": 3,
   "id": "72946d07-0052-44ad-b5d2-d86ded6c532e",
   "metadata": {},
   "outputs": [],
   "source": [
    "with fiona.open(raw_data_path, 'r') as fiona_collection:\n",
    "    # Create GeoDataFrame from Fiona Collection\n",
    "    gdf = gpd.GeoDataFrame.from_features([feature for feature in fiona_collection], crs=ghsl_crs)\n",
    "    # Get the order of the fields in the Fiona Collection; add geometry to the end\n",
    "    columns = list(fiona_collection.meta[\"schema\"][\"properties\"]) + [\"geometry\"]\n",
    "    # Re-order columns in the correct order\n",
    "    gdf = gdf[columns]"
   ]
  },
  {
   "cell_type": "markdown",
   "id": "69326f40-e44f-46e4-8913-04c108cf6e61",
   "metadata": {},
   "source": [
    "## 2. Cleaning the GeoDataFrame"
   ]
  },
  {
   "cell_type": "markdown",
   "id": "f36398bc-489e-4118-9ca7-ce6f685fc140",
   "metadata": {},
   "source": [
    "Now that we have the GeoDataFrame, we collect some summary statistics. More documentation can be found in the GHSL official dataset description"
   ]
  },
  {
   "cell_type": "code",
   "execution_count": 10,
   "id": "428b62c2-8acf-42b0-926f-c76cd76da9df",
   "metadata": {},
   "outputs": [
    {
     "name": "stdout",
     "output_type": "stream",
     "text": [
      "There are 13135 urban centers in the dataset\n",
      "There are 161 columns per urban center\n"
     ]
    }
   ],
   "source": [
    "print(\"There are\", len(gdf), \"urban centers in the dataset\")\n",
    "print(\"There are\", len(list(gdf.columns)), \"columns per urban center\")"
   ]
  },
  {
   "cell_type": "markdown",
   "id": "25852a3c-0583-452a-af83-efb98568a0b7",
   "metadata": {},
   "source": [
    "There are obviously too many variables per urban center. For example, a full row has the following values:"
   ]
  },
  {
   "cell_type": "code",
   "execution_count": 11,
   "id": "632c586c-a0c0-496c-bfbe-fd06c8f4edd8",
   "metadata": {},
   "outputs": [
    {
     "name": "stdout",
     "output_type": "stream",
     "text": [
      "ID_HDC_G0                                                 2022.0\n",
      "QA2_1V                                                       1.0\n",
      "AREA                                                        31.0\n",
      "BBX_LATMN                                              48.419784\n",
      "BBX_LONMN                                               1.443075\n",
      "BBX_LATMX                                              48.476418\n",
      "BBX_LONMX                                               1.533985\n",
      "GCPNT_LAT                                              48.442465\n",
      "GCPNT_LON                                               1.485679\n",
      "CTR_MN_NM                                                 France\n",
      "CTR_MN_ISO                                                   FRA\n",
      "XBRDR                                                        0.0\n",
      "XCTR_NBR                                                     1.0\n",
      "XC_NM_LST                                                 France\n",
      "XC_ISO_LST                                                   FRA\n",
      "GRGN_L1                                                   Europe\n",
      "GRGN_L2                                           Western Europe\n",
      "UC_NM_MN                                                Chartres\n",
      "UC_NM_LST                           Chartres; Lucé; Mainvilliers\n",
      "UC_NM_SRC                                              GISCO OSM\n",
      "H75_NBR                                                      1.0\n",
      "H90_NBR                                                      1.0\n",
      "H00_NBR                                                      1.0\n",
      "H75_AREA                                                    20.0\n",
      "H90_AREA                                                    23.0\n",
      "H00_AREA                                                    26.0\n",
      "E_BM_NM_LST                Temperate Broadleaf and Mixed Forests\n",
      "E_SL_LST                                                Luvisols\n",
      "EL_AV_ALS                                             150.221675\n",
      "E_KG_NM_LST        Mild temperate, fully humid, and  Warm summer\n",
      "E_RB_NM_LST                                                Seine\n",
      "E_WR_P_90                                             573.650024\n",
      "E_WR_P_00                                                813.875\n",
      "E_WR_P_14                                             669.700012\n",
      "E_WR_T_90                                              11.159166\n",
      "E_WR_T_00                                              11.476903\n",
      "E_WR_T_14                                               11.48255\n",
      "B75                                                    14.605794\n",
      "B90                                                    18.178938\n",
      "B00                                                    20.564684\n",
      "B15                                                    21.605385\n",
      "P75                                                  86266.76857\n",
      "P90                                                 78096.644028\n",
      "P00                                                 72978.885254\n",
      "P15                                                 68460.900024\n",
      "BUCAP75                                               169.309622\n",
      "BUCAP90                                               232.774892\n",
      "BUCAP00                                               281.789504\n",
      "BUCAP15                                               315.587216\n",
      "NTL_AV                                                   34.2384\n",
      "GDP90_SM                                             935968064.0\n",
      "GDP00_SM                                            1092261632.0\n",
      "GDP15_SM                                            1034578560.0\n",
      "INCM_CMI                                                     HIC\n",
      "DEV_CMI                                                      MDR\n",
      "TT2CC                                                  28.277843\n",
      "E_GR_AV90                                                0.32181\n",
      "E_GR_AV00                                               0.444253\n",
      "E_GR_AV14                                               0.473786\n",
      "E_GR_AH90                                               4.813543\n",
      "E_GR_AM90                                              25.657679\n",
      "E_GR_AL90                                               0.663909\n",
      "E_GR_AT90                                              31.135132\n",
      "E_GR_AH00                                              14.563295\n",
      "E_GR_AM00                                              16.571837\n",
      "E_GR_AL00                                                    0.0\n",
      "E_GR_AT00                                              31.135132\n",
      "E_GR_AH14                                              17.421988\n",
      "E_GR_AM14                                              13.713144\n",
      "E_GR_AL14                                                    0.0\n",
      "E_GR_AT14                                              31.135132\n",
      "E_EC2E_E75                                                   NaN\n",
      "E_EC2E_E90                                                   NaN\n",
      "E_EC2E_E00                                                   NaN\n",
      "E_EC2E_E15                                                   NaN\n",
      "E_EC2E_R75                                          54217.206581\n",
      "E_EC2E_R90                                          38392.788357\n",
      "E_EC2E_R00                                          37953.977493\n",
      "E_EC2E_R15                                           27825.01382\n",
      "E_EC2E_I75                                          42353.831617\n",
      "E_EC2E_I90                                          26477.937244\n",
      "E_EC2E_I00                                          26649.359499\n",
      "E_EC2E_I15                                          16993.515679\n",
      "E_EC2E_T75                                          15815.657335\n",
      "E_EC2E_T90                                          24275.650923\n",
      "E_EC2E_T00                                          28227.499718\n",
      "E_EC2E_T15                                          26415.753544\n",
      "E_EC2E_A75                                              1.933334\n",
      "E_EC2E_A90                                              9.104597\n",
      "E_EC2E_A00                                                7.1605\n",
      "E_EC2E_A15                                             17.328435\n",
      "E_EC2O_E75                                                   NaN\n",
      "E_EC2O_E90                                                   NaN\n",
      "E_EC2O_E00                                                   NaN\n",
      "E_EC2O_E15                                                   NaN\n",
      "E_EC2O_R75                                            6312.17869\n",
      "E_EC2O_R90                                           7133.743863\n",
      "E_EC2O_R00                                           6288.794749\n",
      "E_EC2O_R15                                           4746.944648\n",
      "E_EC2O_I75                                           1870.148599\n",
      "E_EC2O_I90                                           2415.966606\n",
      "E_EC2O_I00                                           2410.001476\n",
      "E_EC2O_I15                                           1661.538455\n",
      "E_EC2O_T75                                                   NaN\n",
      "E_EC2O_T90                                                   NaN\n",
      "E_EC2O_T00                                            202.809547\n",
      "E_EC2O_T15                                           1843.604649\n",
      "E_EC2O_A75                                            259.955336\n",
      "E_EC2O_A90                                            450.732308\n",
      "E_EC2O_A00                                            298.667723\n",
      "E_EC2O_A15                                            331.738597\n",
      "E_EPM2_E75                                                   NaN\n",
      "E_EPM2_E90                                                   NaN\n",
      "E_EPM2_E00                                                   NaN\n",
      "E_EPM2_E15                                                   NaN\n",
      "E_EPM2_R75                                             40.799526\n",
      "E_EPM2_R90                                             33.163899\n",
      "E_EPM2_R00                                             19.658902\n",
      "E_EPM2_R15                                             12.007931\n",
      "E_EPM2_I75                                             19.716183\n",
      "E_EPM2_I90                                             14.956394\n",
      "E_EPM2_I00                                              13.09033\n",
      "E_EPM2_I15                                              6.752975\n",
      "E_EPM2_T75                                              3.029519\n",
      "E_EPM2_T90                                              7.297288\n",
      "E_EPM2_T00                                             11.202746\n",
      "E_EPM2_T15                                               3.19594\n",
      "E_EPM2_A75                                              1.131818\n",
      "E_EPM2_A90                                              1.857448\n",
      "E_EPM2_A00                                              1.322227\n",
      "E_EPM2_A15                                              1.396549\n",
      "E_CPM2_T00                                              13.37828\n",
      "E_CPM2_T05                                              13.35186\n",
      "E_CPM2_T10                                               12.5085\n",
      "E_CPM2_T14                                              12.23885\n",
      "EX_FD_AREA                                                   0.0\n",
      "EX_FD_B75                                                    0.0\n",
      "EX_FD_B90                                                    0.0\n",
      "EX_FD_B00                                                    0.0\n",
      "EX_FD_B15                                                    0.0\n",
      "EX_FD_P75                                                    0.0\n",
      "EX_FD_P90                                                    0.0\n",
      "EX_FD_P00                                                    0.0\n",
      "EX_FD_P15                                                    0.0\n",
      "EX_SS_AREA                                                   0.0\n",
      "EX_SS_B75                                                    0.0\n",
      "EX_SS_B90                                                    0.0\n",
      "EX_SS_B00                                                    0.0\n",
      "EX_SS_B15                                                    0.0\n",
      "EX_SS_P75                                                    0.0\n",
      "EX_SS_P90                                                    0.0\n",
      "EX_SS_P00                                                    0.0\n",
      "EX_SS_P15                                                    0.0\n",
      "EX_EQ19PGA                                              0.017752\n",
      "EX_EQ19MMI                                                   3.0\n",
      "EX_EQ19_Q                                              available\n",
      "EX_HW_IDX                                              24.596001\n",
      "SDG_LUE9015                                              -1.3113\n",
      "SDG_A2G14                                               0.371325\n",
      "SDG_OS15MX                                                  56.2\n",
      "geometry       (POLYGON ((1.469876416329699 48.4764179793823,...\n",
      "Name: 2021, dtype: object\n"
     ]
    }
   ],
   "source": [
    "with pd.option_context('display.max_rows', None, 'display.max_columns', None):\n",
    "    print(gdf.iloc[2021])"
   ]
  },
  {
   "cell_type": "markdown",
   "id": "769ffd2a-48a0-46e7-8924-0894a385b9fd",
   "metadata": {},
   "source": [
    "Upon reading the documentation, we choose to focus on a few of the columns for inspection in the project. Those will have information regarding:\n",
    "\n",
    "- The urban centre name ('urban centre'), and the country ('country') it is majoritarily located\n",
    "- The list of cities composing that urban centre, separated by ; ('cities')\n",
    "- The subcontinent where the city is majoritarily located ('subcontinent')\n",
    "- The population of the city in 2015 ('population')\n",
    "- The area of the city in 2015 ('area')\n",
    "\n",
    "Besides, of course, multipolygons that represent the city administrative boundary"
   ]
  },
  {
   "cell_type": "code",
   "execution_count": 19,
   "id": "39ecc248-3682-4bcd-a6f2-8488eab6a92a",
   "metadata": {},
   "outputs": [
    {
     "data": {
      "text/html": [
       "<div>\n",
       "<style scoped>\n",
       "    .dataframe tbody tr th:only-of-type {\n",
       "        vertical-align: middle;\n",
       "    }\n",
       "\n",
       "    .dataframe tbody tr th {\n",
       "        vertical-align: top;\n",
       "    }\n",
       "\n",
       "    .dataframe thead th {\n",
       "        text-align: right;\n",
       "    }\n",
       "</style>\n",
       "<table border=\"1\" class=\"dataframe\">\n",
       "  <thead>\n",
       "    <tr style=\"text-align: right;\">\n",
       "      <th></th>\n",
       "      <th>urban centre</th>\n",
       "      <th>cities</th>\n",
       "      <th>country</th>\n",
       "      <th>continent</th>\n",
       "      <th>subcontinent</th>\n",
       "      <th>population</th>\n",
       "      <th>area</th>\n",
       "      <th>geometry</th>\n",
       "    </tr>\n",
       "  </thead>\n",
       "  <tbody>\n",
       "    <tr>\n",
       "      <th>5116</th>\n",
       "      <td>Khasavyurt</td>\n",
       "      <td>Khasavyurt</td>\n",
       "      <td>Russia</td>\n",
       "      <td>Europe</td>\n",
       "      <td>Eastern Europe</td>\n",
       "      <td>174191.652252</td>\n",
       "      <td>37.0</td>\n",
       "      <td>MULTIPOLYGON (((46.57290 43.28344, 46.60937 43...</td>\n",
       "    </tr>\n",
       "    <tr>\n",
       "      <th>5661</th>\n",
       "      <td>Walakhere</td>\n",
       "      <td>Walakhere</td>\n",
       "      <td>Ethiopia</td>\n",
       "      <td>Africa</td>\n",
       "      <td>Eastern Africa</td>\n",
       "      <td>95110.375000</td>\n",
       "      <td>1.0</td>\n",
       "      <td>MULTIPOLYGON (((43.53109 5.80267, 43.54109 5.8...</td>\n",
       "    </tr>\n",
       "    <tr>\n",
       "      <th>1391</th>\n",
       "      <td>Cachoeiro de Itapemirim</td>\n",
       "      <td>Cachoeiro de Itapemirim</td>\n",
       "      <td>Brazil</td>\n",
       "      <td>Latin America and the Caribbean</td>\n",
       "      <td>South America</td>\n",
       "      <td>154094.316650</td>\n",
       "      <td>30.0</td>\n",
       "      <td>MULTIPOLYGON (((-41.18614 -20.82420, -41.17574...</td>\n",
       "    </tr>\n",
       "    <tr>\n",
       "      <th>8331</th>\n",
       "      <td>Virudhunagar</td>\n",
       "      <td>Virudhunagar</td>\n",
       "      <td>India</td>\n",
       "      <td>Asia</td>\n",
       "      <td>South-Central Asia</td>\n",
       "      <td>132266.002563</td>\n",
       "      <td>15.0</td>\n",
       "      <td>MULTIPOLYGON (((77.94458 9.60926, 77.96471 9.6...</td>\n",
       "    </tr>\n",
       "    <tr>\n",
       "      <th>10301</th>\n",
       "      <td>Yun</td>\n",
       "      <td>Yun</td>\n",
       "      <td>China</td>\n",
       "      <td>Asia</td>\n",
       "      <td>Eastern Asia</td>\n",
       "      <td>66818.347412</td>\n",
       "      <td>15.0</td>\n",
       "      <td>MULTIPOLYGON (((100.14145 24.46871, 100.17318 ...</td>\n",
       "    </tr>\n",
       "  </tbody>\n",
       "</table>\n",
       "</div>"
      ],
      "text/plain": [
       "                  urban centre                   cities   country  \\\n",
       "5116                Khasavyurt               Khasavyurt    Russia   \n",
       "5661                 Walakhere                Walakhere  Ethiopia   \n",
       "1391   Cachoeiro de Itapemirim  Cachoeiro de Itapemirim    Brazil   \n",
       "8331              Virudhunagar             Virudhunagar     India   \n",
       "10301                      Yun                      Yun     China   \n",
       "\n",
       "                             continent        subcontinent     population  \\\n",
       "5116                            Europe      Eastern Europe  174191.652252   \n",
       "5661                            Africa      Eastern Africa   95110.375000   \n",
       "1391   Latin America and the Caribbean       South America  154094.316650   \n",
       "8331                              Asia  South-Central Asia  132266.002563   \n",
       "10301                             Asia        Eastern Asia   66818.347412   \n",
       "\n",
       "       area                                           geometry  \n",
       "5116   37.0  MULTIPOLYGON (((46.57290 43.28344, 46.60937 43...  \n",
       "5661    1.0  MULTIPOLYGON (((43.53109 5.80267, 43.54109 5.8...  \n",
       "1391   30.0  MULTIPOLYGON (((-41.18614 -20.82420, -41.17574...  \n",
       "8331   15.0  MULTIPOLYGON (((77.94458 9.60926, 77.96471 9.6...  \n",
       "10301  15.0  MULTIPOLYGON (((100.14145 24.46871, 100.17318 ...  "
      ]
     },
     "execution_count": 19,
     "metadata": {},
     "output_type": "execute_result"
    }
   ],
   "source": [
    "clean_gdf = gdf[['UC_NM_MN', 'UC_NM_LST', 'CTR_MN_NM', 'GRGN_L1', 'GRGN_L2', 'P15', 'AREA', 'geometry']]\n",
    "processed_gdf = clean_gdf.rename({'UC_NM_MN':'urban centre',\n",
    "                                  'UC_NM_LST':'cities',\n",
    "                                  'CTR_MN_NM':'country',\n",
    "                                  'GRGN_L1': 'continent',\n",
    "                                  'GRGN_L2':'subcontinent',\n",
    "                                  'P15':'population',\n",
    "                                  'AREA':'area'},\n",
    "                                  axis='columns')\n",
    "processed_gdf.sample(n=5)"
   ]
  },
  {
   "cell_type": "markdown",
   "id": "5da36ece-9be5-4705-81d7-b3de044934b9",
   "metadata": {},
   "source": [
    "## 3. Sampling the GeoDataFrame"
   ]
  },
  {
   "cell_type": "markdown",
   "id": "9b6283ea-962d-43dc-8113-7ef97bddc18c",
   "metadata": {},
   "source": [
    "Our end goal is to use all the 1,315 cities, but we must first design a suitable experiment for a subset of those cities. Sampling the dataframe should ideally produce a representative sample across cities of different continents and different size. The counts of urban centres per (sub)continent are:"
   ]
  },
  {
   "cell_type": "code",
   "execution_count": 13,
   "id": "533a6413-8d2e-47e6-a14f-f84b0d2624d6",
   "metadata": {},
   "outputs": [
    {
     "data": {
      "text/plain": [
       "South-Central Asia       4272\n",
       "Eastern Asia             2111\n",
       "Eastern Africa           1050\n",
       "South-Eastern Asia        875\n",
       "Western Africa            804\n",
       "South America             736\n",
       "Northern Africa           512\n",
       "Western Asia              479\n",
       "Eastern Europe            420\n",
       "Northern America          372\n",
       "Middle Africa             350\n",
       "Central America           266\n",
       "Southern Europe           230\n",
       "Western Europe            227\n",
       "Northern Europe           182\n",
       "Southern Africa            89\n",
       "Caribbean                  74\n",
       "Melanesia                  50\n",
       "Australia/New Zealand      35\n",
       "Polynesia                   1\n",
       "Name: subcontinent, dtype: int64"
      ]
     },
     "execution_count": 13,
     "metadata": {},
     "output_type": "execute_result"
    }
   ],
   "source": [
    "processed_gdf['subcontinent'].value_counts()"
   ]
  },
  {
   "cell_type": "code",
   "execution_count": 14,
   "id": "45d1e813-ea13-4f23-884c-c9e55dd43e09",
   "metadata": {},
   "outputs": [
    {
     "data": {
      "text/plain": [
       "Asia                               7737\n",
       "Africa                             2805\n",
       "Latin America and the Caribbean    1076\n",
       "Europe                             1059\n",
       "Northern America                    372\n",
       "Oceania                              86\n",
       "Name: continent, dtype: int64"
      ]
     },
     "execution_count": 14,
     "metadata": {},
     "output_type": "execute_result"
    }
   ],
   "source": [
    "processed_gdf['continent'].value_counts()"
   ]
  },
  {
   "cell_type": "markdown",
   "id": "772ba96f-8ca7-4eb1-94ef-ddd825f9a6a3",
   "metadata": {},
   "source": [
    "We will use a sample that preserves representatives for each subcontinent. To avoid issues, we will drop the polynesia group since it contains a single center:"
   ]
  },
  {
   "cell_type": "code",
   "execution_count": 16,
   "id": "3b7e05f7-4ead-488d-a423-6c6199bb2d91",
   "metadata": {},
   "outputs": [
    {
     "data": {
      "text/plain": [
       "Australia/New Zealand    10\n",
       "Northern Europe          10\n",
       "Western Asia             10\n",
       "Western Africa           10\n",
       "Southern Europe          10\n",
       "Southern Africa          10\n",
       "South-Eastern Asia       10\n",
       "South-Central Asia       10\n",
       "South America            10\n",
       "Northern America         10\n",
       "Caribbean                10\n",
       "Northern Africa          10\n",
       "Middle Africa            10\n",
       "Melanesia                10\n",
       "Eastern Europe           10\n",
       "Eastern Asia             10\n",
       "Eastern Africa           10\n",
       "Central America          10\n",
       "Western Europe           10\n",
       "Name: subcontinent, dtype: int64"
      ]
     },
     "execution_count": 16,
     "metadata": {},
     "output_type": "execute_result"
    }
   ],
   "source": [
    "sampled_gdf = processed_gdf[processed_gdf['subcontinent'] != 'Polynesia'].groupby('subcontinent').sample(n=10).reset_index()\n",
    "sampled_gdf['subcontinent'].value_counts()"
   ]
  },
  {
   "cell_type": "markdown",
   "id": "c3c05ef5-ce82-4136-a198-5329100bd71a",
   "metadata": {},
   "source": [
    "## 4. Testing the Process"
   ]
  },
  {
   "cell_type": "markdown",
   "id": "a998e44f-4cdd-4ed4-a184-83bb965e51c8",
   "metadata": {},
   "source": [
    "Repeat the test pipeline to use the fucntions from the src module to obtain the boundaries:"
   ]
  },
  {
   "cell_type": "code",
   "execution_count": null,
   "id": "3bcd6b0f-66b6-4be0-9e31-90d8a9dcd931",
   "metadata": {},
   "outputs": [],
   "source": [
    "import sys\n",
    "sys.path.append('../')\n",
    "\n",
    "from src import get_cities as gc\n",
    "from src import get_boundary as gb\n",
    "\n",
    "ghsl_gdf = gc.get_processed_urbancentre_gdf(sample=True)\n",
    "boundaries_dict = gb.get_boundaries(method='GHSL', ghsl_gdf=ghsl_gdf, test=False)"
   ]
  },
  {
   "cell_type": "code",
   "execution_count": null,
   "id": "68eeb0dd-8387-4ff3-88d0-c37a064b6b75",
   "metadata": {},
   "outputs": [],
   "source": []
  }
 ],
 "metadata": {
  "kernelspec": {
   "display_name": "Python 3 (ipykernel)",
   "language": "python",
   "name": "python3"
  },
  "language_info": {
   "codemirror_mode": {
    "name": "ipython",
    "version": 3
   },
   "file_extension": ".py",
   "mimetype": "text/x-python",
   "name": "python",
   "nbconvert_exporter": "python",
   "pygments_lexer": "ipython3",
   "version": "3.9.6"
  }
 },
 "nbformat": 4,
 "nbformat_minor": 5
}
